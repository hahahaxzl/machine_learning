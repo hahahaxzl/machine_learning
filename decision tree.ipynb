{
 "cells": [
  {
   "cell_type": "code",
   "id": "initial_id",
   "metadata": {
    "collapsed": true,
    "ExecuteTime": {
     "end_time": "2025-06-18T13:44:45.194742Z",
     "start_time": "2025-06-18T13:44:45.147357Z"
    }
   },
   "source": [
    "from math import log\n",
    "import numpy as np\n",
    "import operator\n",
    "import tensorflow"
   ],
   "outputs": [],
   "execution_count": 1
  },
  {
   "metadata": {
    "ExecuteTime": {
     "end_time": "2025-06-18T13:44:45.201573Z",
     "start_time": "2025-06-18T13:44:45.196795Z"
    }
   },
   "cell_type": "code",
   "source": [
    "def loaddata():\n",
    "    dataSet = [[0, 0,0,0, 'no'],\n",
    "               [0, 0,0,1,'no'],\n",
    "               [0, 1,0,1, 'yes'],\n",
    "               [0, 1,1,0, 'yes'],\n",
    "               [0, 0,0,0, 'no'],\n",
    "               [1, 0,0,0, 'no'],\n",
    "               [1, 0,0,1, 'no'],\n",
    "               [1, 1,1,1, 'yes'],\n",
    "               [1, 0,1,2, 'yes'],\n",
    "               [1, 0,1,2, 'yes'],\n",
    "               [2, 0,1,2, 'yes'],\n",
    "               [2, 0,1,1, 'yes'],\n",
    "               [2, 1,0,1, 'yes'],\n",
    "               [2, 1,0,2, 'yes'],\n",
    "               [2, 0,0,0,'no']]\n",
    "    feature_name = ['age','job','house','credit']\n",
    "    return dataSet, feature_name"
   ],
   "id": "e0a56e815866211d",
   "outputs": [],
   "execution_count": 2
  },
  {
   "metadata": {
    "ExecuteTime": {
     "end_time": "2025-06-18T13:44:45.875684Z",
     "start_time": "2025-06-18T13:44:45.870160Z"
    }
   },
   "cell_type": "code",
   "source": [
    "def entropy(dataSet):\n",
    "    #数据集条数\n",
    "    m = len(dataSet)\n",
    "    #标签不同类别的计数字典\n",
    "    labelCounts = {}\n",
    "    #循环数据集\n",
    "    for featVec in dataSet:\n",
    "        #取标签\n",
    "        currentLabel = featVec[-1]\n",
    "        #如果字典中不存在则值为0，否则值加1\n",
    "        if currentLabel not in labelCounts.keys(): labelCounts[currentLabel] = 0\n",
    "        labelCounts[currentLabel] += 1\n",
    "    #保存最终的熵值\n",
    "    e = 0.0\n",
    "    #根据公式计算熵\n",
    "    for key in labelCounts:\n",
    "        prob = float(labelCounts[key])/m\n",
    "        e -= prob * log(prob,2)\n",
    "    return e"
   ],
   "id": "312f6b71d33e8392",
   "outputs": [],
   "execution_count": 3
  },
  {
   "metadata": {
    "ExecuteTime": {
     "end_time": "2025-06-18T13:44:46.609757Z",
     "start_time": "2025-06-18T13:44:46.604704Z"
    }
   },
   "cell_type": "code",
   "source": [
    "dataSet, feature_name = loaddata()\n",
    "entropy(dataSet)"
   ],
   "id": "d647cee30240faf5",
   "outputs": [
    {
     "data": {
      "text/plain": [
       "0.9709505944546686"
      ]
     },
     "execution_count": 4,
     "metadata": {},
     "output_type": "execute_result"
    }
   ],
   "execution_count": 4
  },
  {
   "metadata": {
    "ExecuteTime": {
     "end_time": "2025-06-18T13:44:48.536306Z",
     "start_time": "2025-06-18T13:44:48.533132Z"
    }
   },
   "cell_type": "code",
   "source": [
    "def splitDataSet(dataSet, axis, value):\n",
    "    #按轴和值划分好的数据集\n",
    "    retDataSet = []\n",
    "    #循环数据集\n",
    "    for featVec in dataSet:\n",
    "        #当前数据按轴取出的数据符合传入的value值\n",
    "        if featVec[axis] == value:\n",
    "            reducedFeatVec = featVec[:axis]\n",
    "            reducedFeatVec.extend(featVec[axis+1:])\n",
    "            retDataSet.append(reducedFeatVec)\n",
    "    return retDataSet"
   ],
   "id": "de8725e5128a6259",
   "outputs": [],
   "execution_count": 5
  },
  {
   "metadata": {
    "ExecuteTime": {
     "end_time": "2025-06-18T13:44:49.322105Z",
     "start_time": "2025-06-18T13:44:49.317636Z"
    }
   },
   "cell_type": "code",
   "source": "splitDataSet(dataSet,2,0)",
   "id": "4fdd018ceabd5b5c",
   "outputs": [
    {
     "data": {
      "text/plain": [
       "[[0, 0, 0, 'no'],\n",
       " [0, 0, 1, 'no'],\n",
       " [0, 1, 1, 'yes'],\n",
       " [0, 0, 0, 'no'],\n",
       " [1, 0, 0, 'no'],\n",
       " [1, 0, 1, 'no'],\n",
       " [2, 1, 1, 'yes'],\n",
       " [2, 1, 2, 'yes'],\n",
       " [2, 0, 0, 'no']]"
      ]
     },
     "execution_count": 6,
     "metadata": {},
     "output_type": "execute_result"
    }
   ],
   "execution_count": 6
  },
  {
   "metadata": {
    "ExecuteTime": {
     "end_time": "2025-06-18T13:44:52.273305Z",
     "start_time": "2025-06-18T13:44:52.269253Z"
    }
   },
   "cell_type": "code",
   "source": [
    "def chooseBestFeature(dataSet):\n",
    "    #特征数\n",
    "    n = len(dataSet[0]) - 1\n",
    "    #计数整个数据集的熵\n",
    "    baseEntropy = entropy(dataSet)\n",
    "    bestInfoGain = 0.0; bestFeature = -1\n",
    "    #遍历每个特征\n",
    "    for i in range(n):\n",
    "        #获取当前特征的所有值\n",
    "        featList = [example[i] for example in dataSet]\n",
    "        #当前特征的可能取值\n",
    "        uniqueVals = set(featList)\n",
    "        #定义一临时变量保存当前的条件熵\n",
    "        newEntropy = 0.0\n",
    "        #循环每一个可能的取值\n",
    "        for value in uniqueVals:\n",
    "            #按该值进行数据集的划分\n",
    "            subDataSet = splitDataSet(dataSet, i, value)\n",
    "            #计算条件熵（2行代码）\n",
    "            prob = len(subDataSet)/float(len(dataSet))\n",
    "            newEntropy += prob * entropy(subDataSet)\n",
    "        #计算信息增益\n",
    "        infoGain = baseEntropy - newEntropy\n",
    "        #保存当前最大的信息增益及对应的特征\n",
    "        if (infoGain > bestInfoGain):\n",
    "            bestInfoGain = infoGain\n",
    "            bestFeature = i\n",
    "    #返回最优特征\n",
    "    return bestFeature"
   ],
   "id": "8b3fd2e0f0b93449",
   "outputs": [],
   "execution_count": 7
  },
  {
   "metadata": {
    "ExecuteTime": {
     "end_time": "2025-06-18T13:44:53.526699Z",
     "start_time": "2025-06-18T13:44:53.521654Z"
    }
   },
   "cell_type": "code",
   "source": "chooseBestFeature(dataSet)",
   "id": "d0e9963fe9a41528",
   "outputs": [
    {
     "data": {
      "text/plain": [
       "2"
      ]
     },
     "execution_count": 8,
     "metadata": {},
     "output_type": "execute_result"
    }
   ],
   "execution_count": 8
  },
  {
   "metadata": {
    "ExecuteTime": {
     "end_time": "2025-06-18T13:44:54.508580Z",
     "start_time": "2025-06-18T13:44:54.505346Z"
    }
   },
   "cell_type": "code",
   "source": [
    "def classVote(classList):\n",
    "    #定义一字典，记录每个标签对应的个数\n",
    "    classCount={}\n",
    "    #循环计数\n",
    "    for vote in classList:\n",
    "        if vote not in classCount.keys():\n",
    "            classCount[ vote]=0\n",
    "        classCount[vote] += 1\n",
    "\n",
    "    #排序\n",
    "    sortedClassCount = sorted(classCount.items(), key=operator.itemgetter(1), reverse=True)\n",
    "\n",
    "    return  sortedClassCount[0][0]"
   ],
   "id": "676f09b5868f10f4",
   "outputs": [],
   "execution_count": 9
  },
  {
   "metadata": {
    "ExecuteTime": {
     "end_time": "2025-06-18T13:44:55.279372Z",
     "start_time": "2025-06-18T13:44:55.276075Z"
    }
   },
   "cell_type": "code",
   "source": [
    "classList=np.array(['yes','no','yes','no','yes'])\n",
    "classVote(classList)"
   ],
   "id": "376a96f6ad5ff5e1",
   "outputs": [
    {
     "data": {
      "text/plain": [
       "np.str_('yes')"
      ]
     },
     "execution_count": 10,
     "metadata": {},
     "output_type": "execute_result"
    }
   ],
   "execution_count": 10
  },
  {
   "metadata": {
    "ExecuteTime": {
     "end_time": "2025-06-18T13:44:56.050506Z",
     "start_time": "2025-06-18T13:44:56.046931Z"
    }
   },
   "cell_type": "code",
   "source": [
    "def trainTree(dataSet,feature_name):\n",
    "    classList=[example[-1] for example in dataSet]\n",
    "    if classList.count(classList[0]) == len(classList):\n",
    "        return classList[0]\n",
    "    if len(dataSet[0])==1:\n",
    "        return classVote(classList)\n",
    "    bestFeat=chooseBestFeature(dataSet)\n",
    "    bestFeatName=feature_name[bestFeat]\n",
    "    myTree={bestFeatName:{}}\n",
    "    featValues=[example[bestFeat] for example in dataSet]\n",
    "    uniqueVals=set(featValues)\n",
    "    for value in uniqueVals:\n",
    "        sub_feature_name=feature_name[:]\n",
    "        myTree[bestFeatName][value]=trainTree(splitDataSet(dataSet,bestFeat,value),sub_feature_name)\n",
    "    return myTree"
   ],
   "id": "90b3976f05d9abbb",
   "outputs": [],
   "execution_count": 11
  },
  {
   "metadata": {
    "ExecuteTime": {
     "end_time": "2025-06-18T13:44:56.901226Z",
     "start_time": "2025-06-18T13:44:56.897059Z"
    }
   },
   "cell_type": "code",
   "source": [
    "myDat,feature_name=loaddata()\n",
    "myTree=trainTree(myDat,feature_name)\n",
    "print(myTree)"
   ],
   "id": "ea5f021aefcbfe71",
   "outputs": [
    {
     "name": "stdout",
     "output_type": "stream",
     "text": [
      "{'house': {0: {'job': {0: 'no', 1: 'yes'}}, 1: 'yes'}}\n"
     ]
    }
   ],
   "execution_count": 12
  },
  {
   "metadata": {
    "ExecuteTime": {
     "end_time": "2025-06-18T13:44:57.679047Z",
     "start_time": "2025-06-18T13:44:57.675081Z"
    }
   },
   "cell_type": "code",
   "source": [
    "def predict(inputTree,featLabels,testVec):\n",
    "    firstStr = list(inputTree.keys())[0]\n",
    "    secondDict = inputTree[firstStr]\n",
    "    featIndex = featLabels.index(firstStr)\n",
    "    key = testVec[featIndex]\n",
    "    valueOfFeat = secondDict[key]\n",
    "    if isinstance(valueOfFeat, dict):\n",
    "        classLabel = predict(valueOfFeat, featLabels, testVec)\n",
    "    else: classLabel = valueOfFeat\n",
    "    return classLabel"
   ],
   "id": "cc54555f3aa25b7b",
   "outputs": [],
   "execution_count": 13
  },
  {
   "metadata": {
    "ExecuteTime": {
     "end_time": "2025-06-18T13:44:58.460487Z",
     "start_time": "2025-06-18T13:44:58.457951Z"
    }
   },
   "cell_type": "code",
   "source": "print(predict(myTree,feature_name,[1,1,0,1]))",
   "id": "5f3557baabd42b3c",
   "outputs": [
    {
     "name": "stdout",
     "output_type": "stream",
     "text": [
      "yes\n"
     ]
    }
   ],
   "execution_count": 14
  },
  {
   "metadata": {
    "ExecuteTime": {
     "end_time": "2025-06-18T13:45:16.764253Z",
     "start_time": "2025-06-18T13:45:16.760669Z"
    }
   },
   "cell_type": "code",
   "source": "",
   "id": "1780a465fb7c4cc0",
   "outputs": [
    {
     "name": "stdout",
     "output_type": "stream",
     "text": [
      "yes111\n"
     ]
    }
   ],
   "execution_count": 17
  },
  {
   "metadata": {},
   "cell_type": "code",
   "outputs": [],
   "execution_count": null,
   "source": "",
   "id": "a4333e24bae40d4f"
  }
 ],
 "metadata": {
  "kernelspec": {
   "display_name": "Python 3",
   "language": "python",
   "name": "python3"
  },
  "language_info": {
   "codemirror_mode": {
    "name": "ipython",
    "version": 2
   },
   "file_extension": ".py",
   "mimetype": "text/x-python",
   "name": "python",
   "nbconvert_exporter": "python",
   "pygments_lexer": "ipython2",
   "version": "2.7.6"
  }
 },
 "nbformat": 4,
 "nbformat_minor": 5
}
