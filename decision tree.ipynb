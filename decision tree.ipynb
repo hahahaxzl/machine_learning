{
 "cells": [
  {
   "cell_type": "code",
   "id": "initial_id",
   "metadata": {
    "collapsed": true,
    "ExecuteTime": {
     "end_time": "2025-06-18T10:03:17.895077Z",
     "start_time": "2025-06-18T10:03:17.755391Z"
    }
   },
   "source": [
    "from math import log\n",
    "import numpy as np\n",
    "import operator"
   ],
   "outputs": [],
   "execution_count": 1
  },
  {
   "metadata": {
    "ExecuteTime": {
     "end_time": "2025-06-18T10:03:21.161151Z",
     "start_time": "2025-06-18T10:03:21.156564Z"
    }
   },
   "cell_type": "code",
   "source": [
    "def loaddata():\n",
    "    dataSet = [[0, 0,0,0, 'no'],\n",
    "               [0, 0,0,1,'no'],\n",
    "               [0, 1,0,1, 'yes'],\n",
    "               [0, 1,1,0, 'yes'],\n",
    "               [0, 0,0,0, 'no'],\n",
    "               [1, 0,0,0, 'no'],\n",
    "               [1, 0,0,1, 'no'],\n",
    "               [1, 1,1,1, 'yes'],\n",
    "               [1, 0,1,2, 'yes'],\n",
    "               [1, 0,1,2, 'yes'],\n",
    "               [2, 0,1,2, 'yes'],\n",
    "               [2, 0,1,1, 'yes'],\n",
    "               [2, 1,0,1, 'yes'],\n",
    "               [2, 1,0,2, 'yes'],\n",
    "               [2, 0,0,0,'no']]\n",
    "    feature_name = ['age','job','house','credit']\n",
    "    return dataSet, feature_name"
   ],
   "id": "e0a56e815866211d",
   "outputs": [],
   "execution_count": 2
  },
  {
   "metadata": {
    "ExecuteTime": {
     "end_time": "2025-06-18T10:04:17.376091Z",
     "start_time": "2025-06-18T10:04:17.372567Z"
    }
   },
   "cell_type": "code",
   "source": [
    "def entropy(dataSet):\n",
    "    #数据集条数\n",
    "    m = len(dataSet)\n",
    "    #标签不同类别的计数字典\n",
    "    labelCounts = {}\n",
    "    #循环数据集\n",
    "    for featVec in dataSet:\n",
    "        #取标签\n",
    "        currentLabel = featVec[-1]\n",
    "        #如果字典中不存在则值为0，否则值加1\n",
    "        if currentLabel not in labelCounts.keys(): labelCounts[currentLabel] = 0\n",
    "        labelCounts[currentLabel] += 1\n",
    "    #保存最终的熵值\n",
    "    e = 0.0\n",
    "    #根据公式计算熵\n",
    "    for key in labelCounts:\n",
    "        prob = float(labelCounts[key])/m\n",
    "        e -= prob * log(prob,2)\n",
    "    return e"
   ],
   "id": "312f6b71d33e8392",
   "outputs": [],
   "execution_count": 3
  },
  {
   "metadata": {
    "ExecuteTime": {
     "end_time": "2025-06-18T10:04:23.626102Z",
     "start_time": "2025-06-18T10:04:23.621157Z"
    }
   },
   "cell_type": "code",
   "source": [
    "dataSet, feature_name = loaddata()\n",
    "entropy(dataSet)"
   ],
   "id": "d647cee30240faf5",
   "outputs": [
    {
     "data": {
      "text/plain": [
       "0.9709505944546686"
      ]
     },
     "execution_count": 4,
     "metadata": {},
     "output_type": "execute_result"
    }
   ],
   "execution_count": 4
  },
  {
   "metadata": {
    "ExecuteTime": {
     "end_time": "2025-06-18T10:04:29.843684Z",
     "start_time": "2025-06-18T10:04:29.840250Z"
    }
   },
   "cell_type": "code",
   "source": [
    "def splitDataSet(dataSet, axis, value):\n",
    "    #按轴和值划分好的数据集\n",
    "    retDataSet = []\n",
    "    #循环数据集\n",
    "    for featVec in dataSet:\n",
    "        #当前数据按轴取出的数据符合传入的value值\n",
    "        if featVec[axis] == value:\n",
    "            reducedFeatVec = featVec[:axis]\n",
    "            reducedFeatVec.extend(featVec[axis+1:])\n",
    "            retDataSet.append(reducedFeatVec)\n",
    "    return retDataSet"
   ],
   "id": "de8725e5128a6259",
   "outputs": [],
   "execution_count": 5
  },
  {
   "metadata": {
    "ExecuteTime": {
     "end_time": "2025-06-18T10:04:34.267200Z",
     "start_time": "2025-06-18T10:04:34.262654Z"
    }
   },
   "cell_type": "code",
   "source": "splitDataSet(dataSet,2,0)",
   "id": "4fdd018ceabd5b5c",
   "outputs": [
    {
     "data": {
      "text/plain": [
       "[[0, 0, 0, 'no'],\n",
       " [0, 0, 1, 'no'],\n",
       " [0, 1, 1, 'yes'],\n",
       " [0, 0, 0, 'no'],\n",
       " [1, 0, 0, 'no'],\n",
       " [1, 0, 1, 'no'],\n",
       " [2, 1, 1, 'yes'],\n",
       " [2, 1, 2, 'yes'],\n",
       " [2, 0, 0, 'no']]"
      ]
     },
     "execution_count": 6,
     "metadata": {},
     "output_type": "execute_result"
    }
   ],
   "execution_count": 6
  },
  {
   "metadata": {
    "ExecuteTime": {
     "end_time": "2025-06-18T10:11:19.791962Z",
     "start_time": "2025-06-18T10:11:19.764695Z"
    }
   },
   "cell_type": "code",
   "source": [
    "def chooseBestFeature(dataSet):\n",
    "    #特征数\n",
    "    n = len(dataSet[0]) - 1\n",
    "    #计数整个数据集的熵\n",
    "    baseEntropy = entropy(dataSet)\n",
    "    bestInfoGain = 0.0; bestFeature = -1\n",
    "    #遍历每个特征\n",
    "    for i in range(n):\n",
    "        #获取当前特征的所有值\n",
    "        featList = [example[i] for example in dataSet]\n",
    "        #当前特征的可能取值\n",
    "        uniqueVals = set(featList)\n",
    "        #定义一临时变量保存当前的条件熵\n",
    "        newEntropy = 0.0\n",
    "        #循环每一个可能的取值\n",
    "        for value in uniqueVals:\n",
    "            #按该值进行数据集的划分\n",
    "            subDataSet = splitDataSet(dataSet, i, value)\n",
    "            #计算条件熵（2行代码）\n",
    "            prob = len(subDataSet)/float(len(dataSet))\n",
    "            newEntropy += prob * entropy(subDataSet)\n",
    "        #计算信息增益\n",
    "        infoGain = baseEntropy - newEntropy\n",
    "        #保存当前最大的信息增益及对应的特征\n",
    "        if (infoGain > bestInfoGain):\n",
    "            bestInfoGain = infoGain\n",
    "            bestFeature = i\n",
    "    #返回最优特征\n",
    "    return bestFeature"
   ],
   "id": "8b3fd2e0f0b93449",
   "outputs": [],
   "execution_count": 7
  },
  {
   "metadata": {
    "ExecuteTime": {
     "end_time": "2025-06-18T10:11:25.513339Z",
     "start_time": "2025-06-18T10:11:25.508553Z"
    }
   },
   "cell_type": "code",
   "source": "chooseBestFeature(dataSet)",
   "id": "d0e9963fe9a41528",
   "outputs": [
    {
     "data": {
      "text/plain": [
       "2"
      ]
     },
     "execution_count": 8,
     "metadata": {},
     "output_type": "execute_result"
    }
   ],
   "execution_count": 8
  },
  {
   "metadata": {},
   "cell_type": "code",
   "outputs": [],
   "execution_count": null,
   "source": "",
   "id": "676f09b5868f10f4"
  }
 ],
 "metadata": {
  "kernelspec": {
   "display_name": "Python 3",
   "language": "python",
   "name": "python3"
  },
  "language_info": {
   "codemirror_mode": {
    "name": "ipython",
    "version": 2
   },
   "file_extension": ".py",
   "mimetype": "text/x-python",
   "name": "python",
   "nbconvert_exporter": "python",
   "pygments_lexer": "ipython2",
   "version": "2.7.6"
  }
 },
 "nbformat": 4,
 "nbformat_minor": 5
}
