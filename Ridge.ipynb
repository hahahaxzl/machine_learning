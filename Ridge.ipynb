{
 "cells": [
  {
   "cell_type": "code",
   "id": "initial_id",
   "metadata": {
    "collapsed": true,
    "ExecuteTime": {
     "end_time": "2025-06-18T10:09:44.507386Z",
     "start_time": "2025-06-18T10:09:44.214221Z"
    }
   },
   "source": [
    "import numpy as np\n",
    "import matplotlib.pyplot as plt"
   ],
   "outputs": [],
   "execution_count": 1
  },
  {
   "metadata": {
    "ExecuteTime": {
     "end_time": "2025-06-18T10:09:52.973817Z",
     "start_time": "2025-06-18T10:09:52.970396Z"
    }
   },
   "cell_type": "code",
   "source": [
    "def loaddata():\n",
    "    data = np.loadtxt('data/data1.txt',delimiter=',')\n",
    "    n = data.shape[1]-1 #特征数\n",
    "    X = data[:,0:n]\n",
    "    y = data[:,-1].reshape(-1,1)\n",
    "    return X,y"
   ],
   "id": "75730f05d3b58fda",
   "outputs": [],
   "execution_count": 2
  },
  {
   "metadata": {
    "ExecuteTime": {
     "end_time": "2025-06-18T10:09:57.459683Z",
     "start_time": "2025-06-18T10:09:57.456489Z"
    }
   },
   "cell_type": "code",
   "source": [
    "def featureNormalize(X):\n",
    "    mu = np.average(X,axis=0)\n",
    "    sigma =np.std(X,axis=0,ddof=1)\n",
    "    X = (X-mu)/sigma\n",
    "    return X,mu,sigma"
   ],
   "id": "8411b9ec4046b0ea",
   "outputs": [],
   "execution_count": 3
  },
  {
   "metadata": {
    "ExecuteTime": {
     "end_time": "2025-06-18T10:10:02.017715Z",
     "start_time": "2025-06-18T10:10:02.014126Z"
    }
   },
   "cell_type": "code",
   "source": [
    "def computeCost(X,y,theta):\n",
    "    m = X.shape[0]\n",
    "    return np.sum(np.power(np.dot(X,theta)-y,2))/(2*m)"
   ],
   "id": "84b83dc653c0eb46",
   "outputs": [],
   "execution_count": 4
  },
  {
   "metadata": {
    "ExecuteTime": {
     "end_time": "2025-06-18T10:10:12.329805Z",
     "start_time": "2025-06-18T10:10:12.326139Z"
    }
   },
   "cell_type": "code",
   "source": [
    "def gradientDescent(X,y,theta,iterations,alpha):\n",
    "    c = np.ones(X.shape[0]).transpose()\n",
    "    X = np.insert(X,0,values=c,axis=1)#对原始数据加入一个全为1的列\n",
    "    m = X.shape[0]\n",
    "    n = X.shape[1]\n",
    "    costs = np.zeros(iterations)\n",
    "    for num in range(iterations):\n",
    "        for j in range(n):\n",
    "            theta[j] = theta[j]+(alpha/m)*np.sum(y-np.dot(X,theta)*X[:,j].reshape(-1,1))\n",
    "        costs[num] = computeCost(X,y,theta)\n",
    "    return theta,costs"
   ],
   "id": "e1c22baca0c03c54",
   "outputs": [],
   "execution_count": 5
  },
  {
   "metadata": {
    "ExecuteTime": {
     "end_time": "2025-06-18T10:10:19.149764Z",
     "start_time": "2025-06-18T10:10:19.145984Z"
    }
   },
   "cell_type": "code",
   "source": [
    "def gradientDescent_ridge(X,y,theta,iterations,alpha,lamda=0.02):\n",
    "    c = np.ones(X.shape[0]).transpose()\n",
    "    X = np.insert(X,0,values=c,axis=1)#对原始数据加入一个全为1的列\n",
    "    m = X.shape[0]\n",
    "    n = X.shape[1]\n",
    "    costs = np.zeros(iterations)\n",
    "    for num in range(iterations):\n",
    "        for j in range(n):\n",
    "            theta[j] = theta[j]+(alpha/m)*np.sum(y-np.dot(X,theta)*X[:,j].reshape(-1,1))-2*lamda*theta[j]\n",
    "        costs[num] = computeCost(X,y,theta)\n",
    "    return theta,costs"
   ],
   "id": "5c37e44becd6ef90",
   "outputs": [],
   "execution_count": 6
  },
  {
   "metadata": {
    "ExecuteTime": {
     "end_time": "2025-06-18T10:10:24.480671Z",
     "start_time": "2025-06-18T10:10:24.477409Z"
    }
   },
   "cell_type": "code",
   "source": [
    "def predict(X):\n",
    "    X = (X-mu)/sigma\n",
    "    c = np.ones(X.shape[0]).transpose()\n",
    "    X = np.insert(X, 0, values=c, axis=1)\n",
    "    return np.dot(X,theta)"
   ],
   "id": "31f713575136e1a1",
   "outputs": [],
   "execution_count": 7
  },
  {
   "metadata": {
    "ExecuteTime": {
     "end_time": "2025-06-18T10:10:29.579986Z",
     "start_time": "2025-06-18T10:10:29.575828Z"
    }
   },
   "cell_type": "code",
   "source": [
    "X_orgin,y = loaddata()\n",
    "X,mu,sigma = featureNormalize(X_orgin)\n",
    "theta = np.zeros(X.shape[1]+1).reshape(-1,1)\n",
    "iterations = 400\n",
    "alpha = 0.01"
   ],
   "id": "41c194bc7ca16f6a",
   "outputs": [],
   "execution_count": 8
  },
  {
   "metadata": {
    "ExecuteTime": {
     "end_time": "2025-06-18T10:10:34.617795Z",
     "start_time": "2025-06-18T10:10:34.602920Z"
    }
   },
   "cell_type": "code",
   "source": "theta,costs = gradientDescent_ridge(X,y,theta,iterations,alpha,0.01)",
   "id": "a73104e45cb3b514",
   "outputs": [],
   "execution_count": 9
  },
  {
   "metadata": {
    "ExecuteTime": {
     "end_time": "2025-06-18T10:10:39.504678Z",
     "start_time": "2025-06-18T10:10:39.418086Z"
    }
   },
   "cell_type": "code",
   "source": [
    "x_axis = np.linspace(1,iterations,iterations)\n",
    "plt.plot(x_axis,costs[0:iterations])"
   ],
   "id": "58ea30850257cc8d",
   "outputs": [
    {
     "data": {
      "text/plain": [
       "[<matplotlib.lines.Line2D at 0x19ec597aad0>]"
      ]
     },
     "execution_count": 10,
     "metadata": {},
     "output_type": "execute_result"
    },
    {
     "data": {
      "text/plain": [
       "<Figure size 640x480 with 1 Axes>"
      ],
      "image/png": "[encoded data removed]"
     },
     "metadata": {},
     "output_type": "display_data"
    }
   ],
   "execution_count": 10
  },
  {
   "metadata": {
    "ExecuteTime": {
     "end_time": "2025-06-18T10:10:44.152337Z",
     "start_time": "2025-06-18T10:10:44.148785Z"
    }
   },
   "cell_type": "code",
   "source": "theta",
   "id": "b8d198be2eca931f",
   "outputs": [
    {
     "data": {
      "text/plain": [
       "array([[0.19999898],\n",
       "       [0.20225245],\n",
       "       [0.20225246]])"
      ]
     },
     "execution_count": 11,
     "metadata": {},
     "output_type": "execute_result"
    }
   ],
   "execution_count": 11
  },
  {
   "metadata": {
    "ExecuteTime": {
     "end_time": "2025-06-18T10:10:51.480637Z",
     "start_time": "2025-06-18T10:10:50.817465Z"
    }
   },
   "cell_type": "code",
   "source": [
    "plt.scatter(X,y)\n",
    "h_theta = theta[0]+theta[1]*X\n",
    "plt.plot(X,h_theta)"
   ],
   "id": "6e8fd043ddbea88f",
   "outputs": [
    {
     "ename": "ValueError",
     "evalue": "x and y must be the same size",
     "output_type": "error",
     "traceback": [
      "\u001B[31m---------------------------------------------------------------------------\u001B[39m",
      "\u001B[31mValueError\u001B[39m                                Traceback (most recent call last)",
      "\u001B[36mCell\u001B[39m\u001B[36m \u001B[39m\u001B[32mIn[12]\u001B[39m\u001B[32m, line 1\u001B[39m\n\u001B[32m----> \u001B[39m\u001B[32m1\u001B[39m \u001B[43mplt\u001B[49m\u001B[43m.\u001B[49m\u001B[43mscatter\u001B[49m\u001B[43m(\u001B[49m\u001B[43mX\u001B[49m\u001B[43m,\u001B[49m\u001B[43my\u001B[49m\u001B[43m)\u001B[49m\n\u001B[32m      2\u001B[39m h_theta = theta[\u001B[32m0\u001B[39m]+theta[\u001B[32m1\u001B[39m]*X\n\u001B[32m      3\u001B[39m plt.plot(X,h_theta)\n",
      "\u001B[36mFile \u001B[39m\u001B[32mE:\\code\\MachineLearning\\.venv\\Lib\\site-packages\\matplotlib\\_api\\deprecation.py:453\u001B[39m, in \u001B[36mmake_keyword_only.<locals>.wrapper\u001B[39m\u001B[34m(*args, **kwargs)\u001B[39m\n\u001B[32m    447\u001B[39m \u001B[38;5;28;01mif\u001B[39;00m \u001B[38;5;28mlen\u001B[39m(args) > name_idx:\n\u001B[32m    448\u001B[39m     warn_deprecated(\n\u001B[32m    449\u001B[39m         since, message=\u001B[33m\"\u001B[39m\u001B[33mPassing the \u001B[39m\u001B[38;5;132;01m%(name)s\u001B[39;00m\u001B[33m \u001B[39m\u001B[38;5;132;01m%(obj_type)s\u001B[39;00m\u001B[33m \u001B[39m\u001B[33m\"\u001B[39m\n\u001B[32m    450\u001B[39m         \u001B[33m\"\u001B[39m\u001B[33mpositionally is deprecated since Matplotlib \u001B[39m\u001B[38;5;132;01m%(since)s\u001B[39;00m\u001B[33m; the \u001B[39m\u001B[33m\"\u001B[39m\n\u001B[32m    451\u001B[39m         \u001B[33m\"\u001B[39m\u001B[33mparameter will become keyword-only in \u001B[39m\u001B[38;5;132;01m%(removal)s\u001B[39;00m\u001B[33m.\u001B[39m\u001B[33m\"\u001B[39m,\n\u001B[32m    452\u001B[39m         name=name, obj_type=\u001B[33mf\u001B[39m\u001B[33m\"\u001B[39m\u001B[33mparameter of \u001B[39m\u001B[38;5;132;01m{\u001B[39;00mfunc.\u001B[34m__name__\u001B[39m\u001B[38;5;132;01m}\u001B[39;00m\u001B[33m()\u001B[39m\u001B[33m\"\u001B[39m)\n\u001B[32m--> \u001B[39m\u001B[32m453\u001B[39m \u001B[38;5;28;01mreturn\u001B[39;00m \u001B[43mfunc\u001B[49m\u001B[43m(\u001B[49m\u001B[43m*\u001B[49m\u001B[43margs\u001B[49m\u001B[43m,\u001B[49m\u001B[43m \u001B[49m\u001B[43m*\u001B[49m\u001B[43m*\u001B[49m\u001B[43mkwargs\u001B[49m\u001B[43m)\u001B[49m\n",
      "\u001B[36mFile \u001B[39m\u001B[32mE:\\code\\MachineLearning\\.venv\\Lib\\site-packages\\matplotlib\\pyplot.py:3948\u001B[39m, in \u001B[36mscatter\u001B[39m\u001B[34m(x, y, s, c, marker, cmap, norm, vmin, vmax, alpha, linewidths, edgecolors, colorizer, plotnonfinite, data, **kwargs)\u001B[39m\n\u001B[32m   3928\u001B[39m \u001B[38;5;129m@_copy_docstring_and_deprecators\u001B[39m(Axes.scatter)\n\u001B[32m   3929\u001B[39m \u001B[38;5;28;01mdef\u001B[39;00m\u001B[38;5;250m \u001B[39m\u001B[34mscatter\u001B[39m(\n\u001B[32m   3930\u001B[39m     x: \u001B[38;5;28mfloat\u001B[39m | ArrayLike,\n\u001B[32m   (...)\u001B[39m\u001B[32m   3946\u001B[39m     **kwargs,\n\u001B[32m   3947\u001B[39m ) -> PathCollection:\n\u001B[32m-> \u001B[39m\u001B[32m3948\u001B[39m     __ret = \u001B[43mgca\u001B[49m\u001B[43m(\u001B[49m\u001B[43m)\u001B[49m\u001B[43m.\u001B[49m\u001B[43mscatter\u001B[49m\u001B[43m(\u001B[49m\n\u001B[32m   3949\u001B[39m \u001B[43m        \u001B[49m\u001B[43mx\u001B[49m\u001B[43m,\u001B[49m\n\u001B[32m   3950\u001B[39m \u001B[43m        \u001B[49m\u001B[43my\u001B[49m\u001B[43m,\u001B[49m\n\u001B[32m   3951\u001B[39m \u001B[43m        \u001B[49m\u001B[43ms\u001B[49m\u001B[43m=\u001B[49m\u001B[43ms\u001B[49m\u001B[43m,\u001B[49m\n\u001B[32m   3952\u001B[39m \u001B[43m        \u001B[49m\u001B[43mc\u001B[49m\u001B[43m=\u001B[49m\u001B[43mc\u001B[49m\u001B[43m,\u001B[49m\n\u001B[32m   3953\u001B[39m \u001B[43m        \u001B[49m\u001B[43mmarker\u001B[49m\u001B[43m=\u001B[49m\u001B[43mmarker\u001B[49m\u001B[43m,\u001B[49m\n\u001B[32m   3954\u001B[39m \u001B[43m        \u001B[49m\u001B[43mcmap\u001B[49m\u001B[43m=\u001B[49m\u001B[43mcmap\u001B[49m\u001B[43m,\u001B[49m\n\u001B[32m   3955\u001B[39m \u001B[43m        \u001B[49m\u001B[43mnorm\u001B[49m\u001B[43m=\u001B[49m\u001B[43mnorm\u001B[49m\u001B[43m,\u001B[49m\n\u001B[32m   3956\u001B[39m \u001B[43m        \u001B[49m\u001B[43mvmin\u001B[49m\u001B[43m=\u001B[49m\u001B[43mvmin\u001B[49m\u001B[43m,\u001B[49m\n\u001B[32m   3957\u001B[39m \u001B[43m        \u001B[49m\u001B[43mvmax\u001B[49m\u001B[43m=\u001B[49m\u001B[43mvmax\u001B[49m\u001B[43m,\u001B[49m\n\u001B[32m   3958\u001B[39m \u001B[43m        \u001B[49m\u001B[43malpha\u001B[49m\u001B[43m=\u001B[49m\u001B[43malpha\u001B[49m\u001B[43m,\u001B[49m\n\u001B[32m   3959\u001B[39m \u001B[43m        \u001B[49m\u001B[43mlinewidths\u001B[49m\u001B[43m=\u001B[49m\u001B[43mlinewidths\u001B[49m\u001B[43m,\u001B[49m\n\u001B[32m   3960\u001B[39m \u001B[43m        \u001B[49m\u001B[43medgecolors\u001B[49m\u001B[43m=\u001B[49m\u001B[43medgecolors\u001B[49m\u001B[43m,\u001B[49m\n\u001B[32m   3961\u001B[39m \u001B[43m        \u001B[49m\u001B[43mcolorizer\u001B[49m\u001B[43m=\u001B[49m\u001B[43mcolorizer\u001B[49m\u001B[43m,\u001B[49m\n\u001B[32m   3962\u001B[39m \u001B[43m        \u001B[49m\u001B[43mplotnonfinite\u001B[49m\u001B[43m=\u001B[49m\u001B[43mplotnonfinite\u001B[49m\u001B[43m,\u001B[49m\n\u001B[32m   3963\u001B[39m \u001B[43m        \u001B[49m\u001B[43m*\u001B[49m\u001B[43m*\u001B[49m\u001B[43m(\u001B[49m\u001B[43m{\u001B[49m\u001B[33;43m\"\u001B[39;49m\u001B[33;43mdata\u001B[39;49m\u001B[33;43m\"\u001B[39;49m\u001B[43m:\u001B[49m\u001B[43m \u001B[49m\u001B[43mdata\u001B[49m\u001B[43m}\u001B[49m\u001B[43m \u001B[49m\u001B[38;5;28;43;01mif\u001B[39;49;00m\u001B[43m \u001B[49m\u001B[43mdata\u001B[49m\u001B[43m \u001B[49m\u001B[38;5;129;43;01mis\u001B[39;49;00m\u001B[43m \u001B[49m\u001B[38;5;129;43;01mnot\u001B[39;49;00m\u001B[43m \u001B[49m\u001B[38;5;28;43;01mNone\u001B[39;49;00m\u001B[43m \u001B[49m\u001B[38;5;28;43;01melse\u001B[39;49;00m\u001B[43m \u001B[49m\u001B[43m{\u001B[49m\u001B[43m}\u001B[49m\u001B[43m)\u001B[49m\u001B[43m,\u001B[49m\n\u001B[32m   3964\u001B[39m \u001B[43m        \u001B[49m\u001B[43m*\u001B[49m\u001B[43m*\u001B[49m\u001B[43mkwargs\u001B[49m\u001B[43m,\u001B[49m\n\u001B[32m   3965\u001B[39m \u001B[43m    \u001B[49m\u001B[43m)\u001B[49m\n\u001B[32m   3966\u001B[39m     sci(__ret)\n\u001B[32m   3967\u001B[39m     \u001B[38;5;28;01mreturn\u001B[39;00m __ret\n",
      "\u001B[36mFile \u001B[39m\u001B[32mE:\\code\\MachineLearning\\.venv\\Lib\\site-packages\\matplotlib\\_api\\deprecation.py:453\u001B[39m, in \u001B[36mmake_keyword_only.<locals>.wrapper\u001B[39m\u001B[34m(*args, **kwargs)\u001B[39m\n\u001B[32m    447\u001B[39m \u001B[38;5;28;01mif\u001B[39;00m \u001B[38;5;28mlen\u001B[39m(args) > name_idx:\n\u001B[32m    448\u001B[39m     warn_deprecated(\n\u001B[32m    449\u001B[39m         since, message=\u001B[33m\"\u001B[39m\u001B[33mPassing the \u001B[39m\u001B[38;5;132;01m%(name)s\u001B[39;00m\u001B[33m \u001B[39m\u001B[38;5;132;01m%(obj_type)s\u001B[39;00m\u001B[33m \u001B[39m\u001B[33m\"\u001B[39m\n\u001B[32m    450\u001B[39m         \u001B[33m\"\u001B[39m\u001B[33mpositionally is deprecated since Matplotlib \u001B[39m\u001B[38;5;132;01m%(since)s\u001B[39;00m\u001B[33m; the \u001B[39m\u001B[33m\"\u001B[39m\n\u001B[32m    451\u001B[39m         \u001B[33m\"\u001B[39m\u001B[33mparameter will become keyword-only in \u001B[39m\u001B[38;5;132;01m%(removal)s\u001B[39;00m\u001B[33m.\u001B[39m\u001B[33m\"\u001B[39m,\n\u001B[32m    452\u001B[39m         name=name, obj_type=\u001B[33mf\u001B[39m\u001B[33m\"\u001B[39m\u001B[33mparameter of \u001B[39m\u001B[38;5;132;01m{\u001B[39;00mfunc.\u001B[34m__name__\u001B[39m\u001B[38;5;132;01m}\u001B[39;00m\u001B[33m()\u001B[39m\u001B[33m\"\u001B[39m)\n\u001B[32m--> \u001B[39m\u001B[32m453\u001B[39m \u001B[38;5;28;01mreturn\u001B[39;00m \u001B[43mfunc\u001B[49m\u001B[43m(\u001B[49m\u001B[43m*\u001B[49m\u001B[43margs\u001B[49m\u001B[43m,\u001B[49m\u001B[43m \u001B[49m\u001B[43m*\u001B[49m\u001B[43m*\u001B[49m\u001B[43mkwargs\u001B[49m\u001B[43m)\u001B[49m\n",
      "\u001B[36mFile \u001B[39m\u001B[32mE:\\code\\MachineLearning\\.venv\\Lib\\site-packages\\matplotlib\\__init__.py:1521\u001B[39m, in \u001B[36m_preprocess_data.<locals>.inner\u001B[39m\u001B[34m(ax, data, *args, **kwargs)\u001B[39m\n\u001B[32m   1518\u001B[39m \u001B[38;5;129m@functools\u001B[39m.wraps(func)\n\u001B[32m   1519\u001B[39m \u001B[38;5;28;01mdef\u001B[39;00m\u001B[38;5;250m \u001B[39m\u001B[34minner\u001B[39m(ax, *args, data=\u001B[38;5;28;01mNone\u001B[39;00m, **kwargs):\n\u001B[32m   1520\u001B[39m     \u001B[38;5;28;01mif\u001B[39;00m data \u001B[38;5;129;01mis\u001B[39;00m \u001B[38;5;28;01mNone\u001B[39;00m:\n\u001B[32m-> \u001B[39m\u001B[32m1521\u001B[39m         \u001B[38;5;28;01mreturn\u001B[39;00m \u001B[43mfunc\u001B[49m\u001B[43m(\u001B[49m\n\u001B[32m   1522\u001B[39m \u001B[43m            \u001B[49m\u001B[43max\u001B[49m\u001B[43m,\u001B[49m\n\u001B[32m   1523\u001B[39m \u001B[43m            \u001B[49m\u001B[43m*\u001B[49m\u001B[38;5;28;43mmap\u001B[39;49m\u001B[43m(\u001B[49m\u001B[43mcbook\u001B[49m\u001B[43m.\u001B[49m\u001B[43msanitize_sequence\u001B[49m\u001B[43m,\u001B[49m\u001B[43m \u001B[49m\u001B[43margs\u001B[49m\u001B[43m)\u001B[49m\u001B[43m,\u001B[49m\n\u001B[32m   1524\u001B[39m \u001B[43m            \u001B[49m\u001B[43m*\u001B[49m\u001B[43m*\u001B[49m\u001B[43m{\u001B[49m\u001B[43mk\u001B[49m\u001B[43m:\u001B[49m\u001B[43m \u001B[49m\u001B[43mcbook\u001B[49m\u001B[43m.\u001B[49m\u001B[43msanitize_sequence\u001B[49m\u001B[43m(\u001B[49m\u001B[43mv\u001B[49m\u001B[43m)\u001B[49m\u001B[43m \u001B[49m\u001B[38;5;28;43;01mfor\u001B[39;49;00m\u001B[43m \u001B[49m\u001B[43mk\u001B[49m\u001B[43m,\u001B[49m\u001B[43m \u001B[49m\u001B[43mv\u001B[49m\u001B[43m \u001B[49m\u001B[38;5;129;43;01min\u001B[39;49;00m\u001B[43m \u001B[49m\u001B[43mkwargs\u001B[49m\u001B[43m.\u001B[49m\u001B[43mitems\u001B[49m\u001B[43m(\u001B[49m\u001B[43m)\u001B[49m\u001B[43m}\u001B[49m\u001B[43m)\u001B[49m\n\u001B[32m   1526\u001B[39m     bound = new_sig.bind(ax, *args, **kwargs)\n\u001B[32m   1527\u001B[39m     auto_label = (bound.arguments.get(label_namer)\n\u001B[32m   1528\u001B[39m                   \u001B[38;5;129;01mor\u001B[39;00m bound.kwargs.get(label_namer))\n",
      "\u001B[36mFile \u001B[39m\u001B[32mE:\\code\\MachineLearning\\.venv\\Lib\\site-packages\\matplotlib\\axes\\_axes.py:4933\u001B[39m, in \u001B[36mAxes.scatter\u001B[39m\u001B[34m(self, x, y, s, c, marker, cmap, norm, vmin, vmax, alpha, linewidths, edgecolors, colorizer, plotnonfinite, **kwargs)\u001B[39m\n\u001B[32m   4931\u001B[39m y = np.ma.ravel(y)\n\u001B[32m   4932\u001B[39m \u001B[38;5;28;01mif\u001B[39;00m x.size != y.size:\n\u001B[32m-> \u001B[39m\u001B[32m4933\u001B[39m     \u001B[38;5;28;01mraise\u001B[39;00m \u001B[38;5;167;01mValueError\u001B[39;00m(\u001B[33m\"\u001B[39m\u001B[33mx and y must be the same size\u001B[39m\u001B[33m\"\u001B[39m)\n\u001B[32m   4935\u001B[39m \u001B[38;5;28;01mif\u001B[39;00m s \u001B[38;5;129;01mis\u001B[39;00m \u001B[38;5;28;01mNone\u001B[39;00m:\n\u001B[32m   4936\u001B[39m     s = (\u001B[32m20\u001B[39m \u001B[38;5;28;01mif\u001B[39;00m mpl.rcParams[\u001B[33m'\u001B[39m\u001B[33m_internal.classic_mode\u001B[39m\u001B[33m'\u001B[39m] \u001B[38;5;28;01melse\u001B[39;00m\n\u001B[32m   4937\u001B[39m          mpl.rcParams[\u001B[33m'\u001B[39m\u001B[33mlines.markersize\u001B[39m\u001B[33m'\u001B[39m] ** \u001B[32m2.0\u001B[39m)\n",
      "\u001B[31mValueError\u001B[39m: x and y must be the same size"
     ]
    },
    {
     "data": {
      "text/plain": [
       "<Figure size 640x480 with 1 Axes>"
      ],
      "image/png": "[encoded data removed]"
     },
     "metadata": {},
     "output_type": "display_data"
    }
   ],
   "execution_count": 12
  },
  {
   "metadata": {
    "ExecuteTime": {
     "end_time": "2025-06-18T10:10:57.173542Z",
     "start_time": "2025-06-18T10:10:57.170338Z"
    }
   },
   "cell_type": "code",
   "source": "print(predict([[5.5277]]))",
   "id": "d95a279cb14cce7",
   "outputs": [
    {
     "name": "stdout",
     "output_type": "stream",
     "text": [
      "[[-1.0854525]]\n"
     ]
    }
   ],
   "execution_count": 13
  },
  {
   "metadata": {},
   "cell_type": "code",
   "outputs": [],
   "execution_count": null,
   "source": "",
   "id": "e0cdb5406522dbe7"
  }
 ],
 "metadata": {
  "kernelspec": {
   "display_name": "Python 3",
   "language": "python",
   "name": "python3"
  },
  "language_info": {
   "codemirror_mode": {
    "name": "ipython",
    "version": 2
   },
   "file_extension": ".py",
   "mimetype": "text/x-python",
   "name": "python",
   "nbconvert_exporter": "python",
   "pygments_lexer": "ipython2",
   "version": "2.7.6"
  }
 },
 "nbformat": 4,
 "nbformat_minor": 5
}
