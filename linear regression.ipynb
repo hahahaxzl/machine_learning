{
 "cells": [
  {
   "cell_type": "code",
   "id": "initial_id",
   "metadata": {
    "collapsed": true,
    "jupyter": {
     "is_executing": true
    }
   },
   "source": [
    "import numpy as np\n",
    "import matplotlib.pyplot as plt"
   ],
   "outputs": [],
   "execution_count": null
  },
  {
   "metadata": {
    "ExecuteTime": {
     "end_time": "2025-06-18T10:09:06.074263Z",
     "start_time": "2025-06-18T10:09:06.070035Z"
    }
   },
   "cell_type": "code",
   "source": [
    "def loaddata():\n",
    "    data = np.loadtxt('data/data1.txt',delimiter=',')\n",
    "    n = data.shape[1]-1 #特征数\n",
    "    X = data[:,0:n]\n",
    "    y = data[:,-1].reshape(-1,1)\n",
    "    return X,y"
   ],
   "id": "29ba0fdfb76b21f9",
   "outputs": [],
   "execution_count": 12
  },
  {
   "metadata": {
    "ExecuteTime": {
     "end_time": "2025-06-18T10:09:06.654331Z",
     "start_time": "2025-06-18T10:09:06.650277Z"
    }
   },
   "cell_type": "code",
   "source": [
    "def featureNormalize(X):\n",
    "    mu = np.average(X,axis=0)\n",
    "    sigma =np.std(X,axis=0,ddof=1)\n",
    "    X = (X-mu)/sigma\n",
    "    return X,mu,sigma"
   ],
   "id": "8716502a0a61d439",
   "outputs": [],
   "execution_count": 13
  },
  {
   "metadata": {
    "ExecuteTime": {
     "end_time": "2025-06-18T10:09:07.286258Z",
     "start_time": "2025-06-18T10:09:07.282081Z"
    }
   },
   "cell_type": "code",
   "source": [
    "def computeCost(X,y,theta):\n",
    "    m = X.shape[0]\n",
    "    return np.sum(np.power(np.dot(X,theta)-y,2))/(2*m)"
   ],
   "id": "a617ebde85698ad0",
   "outputs": [],
   "execution_count": 14
  },
  {
   "metadata": {
    "ExecuteTime": {
     "end_time": "2025-06-18T10:09:07.974785Z",
     "start_time": "2025-06-18T10:09:07.971045Z"
    }
   },
   "cell_type": "code",
   "source": [
    "def gradientDescent(X,y,theta,iterations,alpha):\n",
    "    c = np.ones(X.shape[0]).transpose()\n",
    "    X = np.insert(X,0,values=c,axis=1)#对原始数据加入一个全为1的列\n",
    "    m = X.shape[0]\n",
    "    n = X.shape[1]\n",
    "    costs = np.zeros(iterations)\n",
    "    for num in range(iterations):\n",
    "        for j in range(n):\n",
    "            theta[j] = theta[j]+(alpha/m)*np.sum(y-np.dot(X,theta)*X[:,j].reshape(-1,1))\n",
    "        costs[num] = computeCost(X,y,theta)\n",
    "    return theta,costs"
   ],
   "id": "c247d5665d54f157",
   "outputs": [],
   "execution_count": 15
  },
  {
   "metadata": {
    "ExecuteTime": {
     "end_time": "2025-06-18T10:09:08.608281Z",
     "start_time": "2025-06-18T10:09:08.605251Z"
    }
   },
   "cell_type": "code",
   "source": [
    "def predict(X):\n",
    "    X = (X-mu)/sigma\n",
    "    c = np.ones(X.shape[0]).transpose()\n",
    "    X = np.insert(X, 0, values=c, axis=1)\n",
    "    return np.dot(X,theta)"
   ],
   "id": "5d9172550a2e98e4",
   "outputs": [],
   "execution_count": 16
  },
  {
   "metadata": {
    "ExecuteTime": {
     "end_time": "2025-06-18T10:09:09.252879Z",
     "start_time": "2025-06-18T10:09:09.240366Z"
    }
   },
   "cell_type": "code",
   "source": [
    "X_orgin,y = loaddata()\n",
    "X,mu,sigma = featureNormalize(X_orgin)\n",
    "theta = np.zeros(X.shape[1]+1).reshape(-1,1)\n",
    "iterations = 400\n",
    "alpha = 0.01\n",
    "theta,costs = gradientDescent(X,y,theta,iterations,alpha)"
   ],
   "id": "8294ed753a9e1982",
   "outputs": [],
   "execution_count": 17
  },
  {
   "metadata": {
    "ExecuteTime": {
     "end_time": "2025-06-18T10:09:10.458012Z",
     "start_time": "2025-06-18T10:09:10.389250Z"
    }
   },
   "cell_type": "code",
   "source": [
    "x_axis = np.linspace(1,iterations,iterations)\n",
    "plt.plot(x_axis,costs[0:iterations])"
   ],
   "id": "99239da5c9008d89",
   "outputs": [
    {
     "data": {
      "text/plain": [
       "[<matplotlib.lines.Line2D at 0x1c567d25590>]"
      ]
     },
     "execution_count": 18,
     "metadata": {},
     "output_type": "execute_result"
    },
    {
     "data": {
      "text/plain": [
       "<Figure size 640x480 with 1 Axes>"
      ],
      "image/png": "[encoded data removed]"
     },
     "metadata": {},
     "output_type": "display_data"
    }
   ],
   "execution_count": 18
  },
  {
   "metadata": {
    "ExecuteTime": {
     "end_time": "2025-06-18T10:09:13.514965Z",
     "start_time": "2025-06-18T10:09:13.395184Z"
    }
   },
   "cell_type": "code",
   "source": [
    "plt.scatter(X,y)\n",
    "h_theta = theta[0]+theta[1]*X\n",
    "plt.plot(X,h_theta)"
   ],
   "id": "2e9ff675d025cb98",
   "outputs": [
    {
     "ename": "ValueError",
     "evalue": "x and y must be the same size",
     "output_type": "error",
     "traceback": [
      "\u001B[31m---------------------------------------------------------------------------\u001B[39m",
      "\u001B[31mValueError\u001B[39m                                Traceback (most recent call last)",
      "\u001B[36mCell\u001B[39m\u001B[36m \u001B[39m\u001B[32mIn[19]\u001B[39m\u001B[32m, line 1\u001B[39m\n\u001B[32m----> \u001B[39m\u001B[32m1\u001B[39m \u001B[43mplt\u001B[49m\u001B[43m.\u001B[49m\u001B[43mscatter\u001B[49m\u001B[43m(\u001B[49m\u001B[43mX\u001B[49m\u001B[43m,\u001B[49m\u001B[43my\u001B[49m\u001B[43m)\u001B[49m\n\u001B[32m      2\u001B[39m h_theta = theta[\u001B[32m0\u001B[39m]+theta[\u001B[32m1\u001B[39m]*X\n\u001B[32m      3\u001B[39m plt.plot(X,h_theta)\n",
      "\u001B[36mFile \u001B[39m\u001B[32mE:\\code\\MachineLearning\\.venv\\Lib\\site-packages\\matplotlib\\_api\\deprecation.py:453\u001B[39m, in \u001B[36mmake_keyword_only.<locals>.wrapper\u001B[39m\u001B[34m(*args, **kwargs)\u001B[39m\n\u001B[32m    447\u001B[39m \u001B[38;5;28;01mif\u001B[39;00m \u001B[38;5;28mlen\u001B[39m(args) > name_idx:\n\u001B[32m    448\u001B[39m     warn_deprecated(\n\u001B[32m    449\u001B[39m         since, message=\u001B[33m\"\u001B[39m\u001B[33mPassing the \u001B[39m\u001B[38;5;132;01m%(name)s\u001B[39;00m\u001B[33m \u001B[39m\u001B[38;5;132;01m%(obj_type)s\u001B[39;00m\u001B[33m \u001B[39m\u001B[33m\"\u001B[39m\n\u001B[32m    450\u001B[39m         \u001B[33m\"\u001B[39m\u001B[33mpositionally is deprecated since Matplotlib \u001B[39m\u001B[38;5;132;01m%(since)s\u001B[39;00m\u001B[33m; the \u001B[39m\u001B[33m\"\u001B[39m\n\u001B[32m    451\u001B[39m         \u001B[33m\"\u001B[39m\u001B[33mparameter will become keyword-only in \u001B[39m\u001B[38;5;132;01m%(removal)s\u001B[39;00m\u001B[33m.\u001B[39m\u001B[33m\"\u001B[39m,\n\u001B[32m    452\u001B[39m         name=name, obj_type=\u001B[33mf\u001B[39m\u001B[33m\"\u001B[39m\u001B[33mparameter of \u001B[39m\u001B[38;5;132;01m{\u001B[39;00mfunc.\u001B[34m__name__\u001B[39m\u001B[38;5;132;01m}\u001B[39;00m\u001B[33m()\u001B[39m\u001B[33m\"\u001B[39m)\n\u001B[32m--> \u001B[39m\u001B[32m453\u001B[39m \u001B[38;5;28;01mreturn\u001B[39;00m \u001B[43mfunc\u001B[49m\u001B[43m(\u001B[49m\u001B[43m*\u001B[49m\u001B[43margs\u001B[49m\u001B[43m,\u001B[49m\u001B[43m \u001B[49m\u001B[43m*\u001B[49m\u001B[43m*\u001B[49m\u001B[43mkwargs\u001B[49m\u001B[43m)\u001B[49m\n",
      "\u001B[36mFile \u001B[39m\u001B[32mE:\\code\\MachineLearning\\.venv\\Lib\\site-packages\\matplotlib\\pyplot.py:3948\u001B[39m, in \u001B[36mscatter\u001B[39m\u001B[34m(x, y, s, c, marker, cmap, norm, vmin, vmax, alpha, linewidths, edgecolors, colorizer, plotnonfinite, data, **kwargs)\u001B[39m\n\u001B[32m   3928\u001B[39m \u001B[38;5;129m@_copy_docstring_and_deprecators\u001B[39m(Axes.scatter)\n\u001B[32m   3929\u001B[39m \u001B[38;5;28;01mdef\u001B[39;00m\u001B[38;5;250m \u001B[39m\u001B[34mscatter\u001B[39m(\n\u001B[32m   3930\u001B[39m     x: \u001B[38;5;28mfloat\u001B[39m | ArrayLike,\n\u001B[32m   (...)\u001B[39m\u001B[32m   3946\u001B[39m     **kwargs,\n\u001B[32m   3947\u001B[39m ) -> PathCollection:\n\u001B[32m-> \u001B[39m\u001B[32m3948\u001B[39m     __ret = \u001B[43mgca\u001B[49m\u001B[43m(\u001B[49m\u001B[43m)\u001B[49m\u001B[43m.\u001B[49m\u001B[43mscatter\u001B[49m\u001B[43m(\u001B[49m\n\u001B[32m   3949\u001B[39m \u001B[43m        \u001B[49m\u001B[43mx\u001B[49m\u001B[43m,\u001B[49m\n\u001B[32m   3950\u001B[39m \u001B[43m        \u001B[49m\u001B[43my\u001B[49m\u001B[43m,\u001B[49m\n\u001B[32m   3951\u001B[39m \u001B[43m        \u001B[49m\u001B[43ms\u001B[49m\u001B[43m=\u001B[49m\u001B[43ms\u001B[49m\u001B[43m,\u001B[49m\n\u001B[32m   3952\u001B[39m \u001B[43m        \u001B[49m\u001B[43mc\u001B[49m\u001B[43m=\u001B[49m\u001B[43mc\u001B[49m\u001B[43m,\u001B[49m\n\u001B[32m   3953\u001B[39m \u001B[43m        \u001B[49m\u001B[43mmarker\u001B[49m\u001B[43m=\u001B[49m\u001B[43mmarker\u001B[49m\u001B[43m,\u001B[49m\n\u001B[32m   3954\u001B[39m \u001B[43m        \u001B[49m\u001B[43mcmap\u001B[49m\u001B[43m=\u001B[49m\u001B[43mcmap\u001B[49m\u001B[43m,\u001B[49m\n\u001B[32m   3955\u001B[39m \u001B[43m        \u001B[49m\u001B[43mnorm\u001B[49m\u001B[43m=\u001B[49m\u001B[43mnorm\u001B[49m\u001B[43m,\u001B[49m\n\u001B[32m   3956\u001B[39m \u001B[43m        \u001B[49m\u001B[43mvmin\u001B[49m\u001B[43m=\u001B[49m\u001B[43mvmin\u001B[49m\u001B[43m,\u001B[49m\n\u001B[32m   3957\u001B[39m \u001B[43m        \u001B[49m\u001B[43mvmax\u001B[49m\u001B[43m=\u001B[49m\u001B[43mvmax\u001B[49m\u001B[43m,\u001B[49m\n\u001B[32m   3958\u001B[39m \u001B[43m        \u001B[49m\u001B[43malpha\u001B[49m\u001B[43m=\u001B[49m\u001B[43malpha\u001B[49m\u001B[43m,\u001B[49m\n\u001B[32m   3959\u001B[39m \u001B[43m        \u001B[49m\u001B[43mlinewidths\u001B[49m\u001B[43m=\u001B[49m\u001B[43mlinewidths\u001B[49m\u001B[43m,\u001B[49m\n\u001B[32m   3960\u001B[39m \u001B[43m        \u001B[49m\u001B[43medgecolors\u001B[49m\u001B[43m=\u001B[49m\u001B[43medgecolors\u001B[49m\u001B[43m,\u001B[49m\n\u001B[32m   3961\u001B[39m \u001B[43m        \u001B[49m\u001B[43mcolorizer\u001B[49m\u001B[43m=\u001B[49m\u001B[43mcolorizer\u001B[49m\u001B[43m,\u001B[49m\n\u001B[32m   3962\u001B[39m \u001B[43m        \u001B[49m\u001B[43mplotnonfinite\u001B[49m\u001B[43m=\u001B[49m\u001B[43mplotnonfinite\u001B[49m\u001B[43m,\u001B[49m\n\u001B[32m   3963\u001B[39m \u001B[43m        \u001B[49m\u001B[43m*\u001B[49m\u001B[43m*\u001B[49m\u001B[43m(\u001B[49m\u001B[43m{\u001B[49m\u001B[33;43m\"\u001B[39;49m\u001B[33;43mdata\u001B[39;49m\u001B[33;43m\"\u001B[39;49m\u001B[43m:\u001B[49m\u001B[43m \u001B[49m\u001B[43mdata\u001B[49m\u001B[43m}\u001B[49m\u001B[43m \u001B[49m\u001B[38;5;28;43;01mif\u001B[39;49;00m\u001B[43m \u001B[49m\u001B[43mdata\u001B[49m\u001B[43m \u001B[49m\u001B[38;5;129;43;01mis\u001B[39;49;00m\u001B[43m \u001B[49m\u001B[38;5;129;43;01mnot\u001B[39;49;00m\u001B[43m \u001B[49m\u001B[38;5;28;43;01mNone\u001B[39;49;00m\u001B[43m \u001B[49m\u001B[38;5;28;43;01melse\u001B[39;49;00m\u001B[43m \u001B[49m\u001B[43m{\u001B[49m\u001B[43m}\u001B[49m\u001B[43m)\u001B[49m\u001B[43m,\u001B[49m\n\u001B[32m   3964\u001B[39m \u001B[43m        \u001B[49m\u001B[43m*\u001B[49m\u001B[43m*\u001B[49m\u001B[43mkwargs\u001B[49m\u001B[43m,\u001B[49m\n\u001B[32m   3965\u001B[39m \u001B[43m    \u001B[49m\u001B[43m)\u001B[49m\n\u001B[32m   3966\u001B[39m     sci(__ret)\n\u001B[32m   3967\u001B[39m     \u001B[38;5;28;01mreturn\u001B[39;00m __ret\n",
      "\u001B[36mFile \u001B[39m\u001B[32mE:\\code\\MachineLearning\\.venv\\Lib\\site-packages\\matplotlib\\_api\\deprecation.py:453\u001B[39m, in \u001B[36mmake_keyword_only.<locals>.wrapper\u001B[39m\u001B[34m(*args, **kwargs)\u001B[39m\n\u001B[32m    447\u001B[39m \u001B[38;5;28;01mif\u001B[39;00m \u001B[38;5;28mlen\u001B[39m(args) > name_idx:\n\u001B[32m    448\u001B[39m     warn_deprecated(\n\u001B[32m    449\u001B[39m         since, message=\u001B[33m\"\u001B[39m\u001B[33mPassing the \u001B[39m\u001B[38;5;132;01m%(name)s\u001B[39;00m\u001B[33m \u001B[39m\u001B[38;5;132;01m%(obj_type)s\u001B[39;00m\u001B[33m \u001B[39m\u001B[33m\"\u001B[39m\n\u001B[32m    450\u001B[39m         \u001B[33m\"\u001B[39m\u001B[33mpositionally is deprecated since Matplotlib \u001B[39m\u001B[38;5;132;01m%(since)s\u001B[39;00m\u001B[33m; the \u001B[39m\u001B[33m\"\u001B[39m\n\u001B[32m    451\u001B[39m         \u001B[33m\"\u001B[39m\u001B[33mparameter will become keyword-only in \u001B[39m\u001B[38;5;132;01m%(removal)s\u001B[39;00m\u001B[33m.\u001B[39m\u001B[33m\"\u001B[39m,\n\u001B[32m    452\u001B[39m         name=name, obj_type=\u001B[33mf\u001B[39m\u001B[33m\"\u001B[39m\u001B[33mparameter of \u001B[39m\u001B[38;5;132;01m{\u001B[39;00mfunc.\u001B[34m__name__\u001B[39m\u001B[38;5;132;01m}\u001B[39;00m\u001B[33m()\u001B[39m\u001B[33m\"\u001B[39m)\n\u001B[32m--> \u001B[39m\u001B[32m453\u001B[39m \u001B[38;5;28;01mreturn\u001B[39;00m \u001B[43mfunc\u001B[49m\u001B[43m(\u001B[49m\u001B[43m*\u001B[49m\u001B[43margs\u001B[49m\u001B[43m,\u001B[49m\u001B[43m \u001B[49m\u001B[43m*\u001B[49m\u001B[43m*\u001B[49m\u001B[43mkwargs\u001B[49m\u001B[43m)\u001B[49m\n",
      "\u001B[36mFile \u001B[39m\u001B[32mE:\\code\\MachineLearning\\.venv\\Lib\\site-packages\\matplotlib\\__init__.py:1521\u001B[39m, in \u001B[36m_preprocess_data.<locals>.inner\u001B[39m\u001B[34m(ax, data, *args, **kwargs)\u001B[39m\n\u001B[32m   1518\u001B[39m \u001B[38;5;129m@functools\u001B[39m.wraps(func)\n\u001B[32m   1519\u001B[39m \u001B[38;5;28;01mdef\u001B[39;00m\u001B[38;5;250m \u001B[39m\u001B[34minner\u001B[39m(ax, *args, data=\u001B[38;5;28;01mNone\u001B[39;00m, **kwargs):\n\u001B[32m   1520\u001B[39m     \u001B[38;5;28;01mif\u001B[39;00m data \u001B[38;5;129;01mis\u001B[39;00m \u001B[38;5;28;01mNone\u001B[39;00m:\n\u001B[32m-> \u001B[39m\u001B[32m1521\u001B[39m         \u001B[38;5;28;01mreturn\u001B[39;00m \u001B[43mfunc\u001B[49m\u001B[43m(\u001B[49m\n\u001B[32m   1522\u001B[39m \u001B[43m            \u001B[49m\u001B[43max\u001B[49m\u001B[43m,\u001B[49m\n\u001B[32m   1523\u001B[39m \u001B[43m            \u001B[49m\u001B[43m*\u001B[49m\u001B[38;5;28;43mmap\u001B[39;49m\u001B[43m(\u001B[49m\u001B[43mcbook\u001B[49m\u001B[43m.\u001B[49m\u001B[43msanitize_sequence\u001B[49m\u001B[43m,\u001B[49m\u001B[43m \u001B[49m\u001B[43margs\u001B[49m\u001B[43m)\u001B[49m\u001B[43m,\u001B[49m\n\u001B[32m   1524\u001B[39m \u001B[43m            \u001B[49m\u001B[43m*\u001B[49m\u001B[43m*\u001B[49m\u001B[43m{\u001B[49m\u001B[43mk\u001B[49m\u001B[43m:\u001B[49m\u001B[43m \u001B[49m\u001B[43mcbook\u001B[49m\u001B[43m.\u001B[49m\u001B[43msanitize_sequence\u001B[49m\u001B[43m(\u001B[49m\u001B[43mv\u001B[49m\u001B[43m)\u001B[49m\u001B[43m \u001B[49m\u001B[38;5;28;43;01mfor\u001B[39;49;00m\u001B[43m \u001B[49m\u001B[43mk\u001B[49m\u001B[43m,\u001B[49m\u001B[43m \u001B[49m\u001B[43mv\u001B[49m\u001B[43m \u001B[49m\u001B[38;5;129;43;01min\u001B[39;49;00m\u001B[43m \u001B[49m\u001B[43mkwargs\u001B[49m\u001B[43m.\u001B[49m\u001B[43mitems\u001B[49m\u001B[43m(\u001B[49m\u001B[43m)\u001B[49m\u001B[43m}\u001B[49m\u001B[43m)\u001B[49m\n\u001B[32m   1526\u001B[39m     bound = new_sig.bind(ax, *args, **kwargs)\n\u001B[32m   1527\u001B[39m     auto_label = (bound.arguments.get(label_namer)\n\u001B[32m   1528\u001B[39m                   \u001B[38;5;129;01mor\u001B[39;00m bound.kwargs.get(label_namer))\n",
      "\u001B[36mFile \u001B[39m\u001B[32mE:\\code\\MachineLearning\\.venv\\Lib\\site-packages\\matplotlib\\axes\\_axes.py:4933\u001B[39m, in \u001B[36mAxes.scatter\u001B[39m\u001B[34m(self, x, y, s, c, marker, cmap, norm, vmin, vmax, alpha, linewidths, edgecolors, colorizer, plotnonfinite, **kwargs)\u001B[39m\n\u001B[32m   4931\u001B[39m y = np.ma.ravel(y)\n\u001B[32m   4932\u001B[39m \u001B[38;5;28;01mif\u001B[39;00m x.size != y.size:\n\u001B[32m-> \u001B[39m\u001B[32m4933\u001B[39m     \u001B[38;5;28;01mraise\u001B[39;00m \u001B[38;5;167;01mValueError\u001B[39;00m(\u001B[33m\"\u001B[39m\u001B[33mx and y must be the same size\u001B[39m\u001B[33m\"\u001B[39m)\n\u001B[32m   4935\u001B[39m \u001B[38;5;28;01mif\u001B[39;00m s \u001B[38;5;129;01mis\u001B[39;00m \u001B[38;5;28;01mNone\u001B[39;00m:\n\u001B[32m   4936\u001B[39m     s = (\u001B[32m20\u001B[39m \u001B[38;5;28;01mif\u001B[39;00m mpl.rcParams[\u001B[33m'\u001B[39m\u001B[33m_internal.classic_mode\u001B[39m\u001B[33m'\u001B[39m] \u001B[38;5;28;01melse\u001B[39;00m\n\u001B[32m   4937\u001B[39m          mpl.rcParams[\u001B[33m'\u001B[39m\u001B[33mlines.markersize\u001B[39m\u001B[33m'\u001B[39m] ** \u001B[32m2.0\u001B[39m)\n",
      "\u001B[31mValueError\u001B[39m: x and y must be the same size"
     ]
    },
    {
     "data": {
      "text/plain": [
       "<Figure size 640x480 with 1 Axes>"
      ],
      "image/png": "[encoded data removed]"
     },
     "metadata": {},
     "output_type": "display_data"
    }
   ],
   "execution_count": 19
  },
  {
   "metadata": {
    "ExecuteTime": {
     "end_time": "2025-06-18T10:09:15.398008Z",
     "start_time": "2025-06-18T10:09:15.395428Z"
    }
   },
   "cell_type": "code",
   "source": "print(predict([[5.5277]]))",
   "id": "26055d1867297d75",
   "outputs": [
    {
     "name": "stdout",
     "output_type": "stream",
     "text": [
      "[[-3.27503858]]\n"
     ]
    }
   ],
   "execution_count": 20
  },
  {
   "metadata": {},
   "cell_type": "code",
   "outputs": [],
   "execution_count": null,
   "source": "",
   "id": "e3d48eaedcc2e4a3"
  }
 ],
 "metadata": {
  "kernelspec": {
   "display_name": "Python 3",
   "language": "python",
   "name": "python3"
  },
  "language_info": {
   "codemirror_mode": {
    "name": "ipython",
    "version": 2
   },
   "file_extension": ".py",
   "mimetype": "text/x-python",
   "name": "python",
   "nbconvert_exporter": "python",
   "pygments_lexer": "ipython2",
   "version": "2.7.6"
  }
 },
 "nbformat": 4,
 "nbformat_minor": 5
}
